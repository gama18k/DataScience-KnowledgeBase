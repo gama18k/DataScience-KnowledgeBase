{
 "cells": [
  {
   "cell_type": "markdown",
   "metadata": {
    "colab_type": "text",
    "id": "do3kUOLbltjE"
   },
   "source": [
    "# Python para Data Science - Numpy\n",
    "---"
   ]
  },
  {
   "cell_type": "markdown",
   "metadata": {
    "colab_type": "text",
    "id": "v86aEyR2ltjR"
   },
   "source": [
    "### Importando a biblioteca"
   ]
  },
  {
   "cell_type": "code",
   "execution_count": 1,
   "metadata": {
    "colab": {},
    "colab_type": "code",
    "id": "6FEhElzNltjR"
   },
   "outputs": [],
   "source": [
    "import numpy as np"
   ]
  },
  {
   "cell_type": "markdown",
   "metadata": {},
   "source": [
    "### Importando dados"
   ]
  },
  {
   "cell_type": "code",
   "execution_count": 2,
   "metadata": {
    "colab": {},
    "colab_type": "code",
    "id": "qjL5wPLKltjU"
   },
   "outputs": [],
   "source": [
    "km = np.loadtxt('data/carros-km.txt')\n",
    "anos = np.loadtxt('data/carros-anos.txt', dtype = int)\n",
    "nomes = np.loadtxt('data/carros-nomes.txt', dtype = str, usecols=0)\n",
    "valor = np.loadtxt('data/carros-valor.txt')\n",
    "zerokm = np.loadtxt('data/carros-zero-km.txt')\n"
   ]
  },
  {
   "cell_type": "markdown",
   "metadata": {
    "colab_type": "text",
    "id": "wMdUsAq4ltjs"
   },
   "source": [
    "### Criação e manipulação de arrays\n"
   ]
  },
  {
   "cell_type": "code",
   "execution_count": 5,
   "metadata": {},
   "outputs": [
    {
     "data": {
      "text/plain": [
       "(array([1, 2, 3]),\n",
       " array([[0., 0., 0.],\n",
       "        [0., 0., 0.]]),\n",
       " array([[1., 1., 1.],\n",
       "        [1., 1., 1.]]),\n",
       " array([0, 2, 4, 6, 8]),\n",
       " array([0.  , 0.25, 0.5 , 0.75, 1.  ]),\n",
       " array([[0.04662769, 0.06513895],\n",
       "        [0.43033395, 0.67962524],\n",
       "        [0.31613954, 0.53067097]]))"
      ]
     },
     "execution_count": 5,
     "metadata": {},
     "output_type": "execute_result"
    }
   ],
   "source": [
    "\n",
    "# Arrays básicos\n",
    "array1 = np.array([1, 2, 3])\n",
    "zeros_array = np.zeros((2, 3))\n",
    "ones_array = np.ones((2, 3))\n",
    "\n",
    "# Sequências numéricas\n",
    "arange_array = np.arange(0, 10, 2)  # De 0 a 10 com passo 2\n",
    "linspace_array = np.linspace(0, 1, 5)  # 5 valores entre 0 e 1\n",
    "\n",
    "# Array aleatório\n",
    "random_array = np.random.rand(3, 2)  # Aleatórios uniformes entre 0 e 1\n",
    "\n",
    "# Exibindo os resultados\n",
    "array1, zeros_array, ones_array, arange_array, linspace_array, random_array\n"
   ]
  },
  {
   "cell_type": "markdown",
   "metadata": {},
   "source": [
    "### Operações matemáticas"
   ]
  },
  {
   "cell_type": "code",
   "execution_count": 6,
   "metadata": {
    "colab": {
     "base_uri": "https://localhost:8080/",
     "height": 153
    },
    "colab_type": "code",
    "id": "GgSP_nlHltnb",
    "outputId": "5e2fef4b-9cbf-4af2-fb50-23ac1b1ee879"
   },
   "outputs": [
    {
     "data": {
      "text/plain": [
       "(np.int64(15),\n",
       " np.float64(3.0),\n",
       " np.float64(3.0),\n",
       " np.float64(2.0),\n",
       " np.float64(1.4142135623730951))"
      ]
     },
     "execution_count": 6,
     "metadata": {},
     "output_type": "execute_result"
    }
   ],
   "source": [
    "# Operações matemáticas\n",
    "array = np.array([1, 2, 3, 4, 5])\n",
    "soma = np.sum(array)\n",
    "media = np.mean(array)\n",
    "mediana = np.median(array)\n",
    "variancia = np.var(array)\n",
    "desvio_padrao = np.std(array)\n",
    "\n",
    "# Exibindo resultados\n",
    "soma, media, mediana, variancia, desvio_padrao\n"
   ]
  },
  {
   "cell_type": "markdown",
   "metadata": {},
   "source": [
    "### Indexação e Slicing"
   ]
  },
  {
   "cell_type": "code",
   "execution_count": 7,
   "metadata": {
    "colab": {
     "base_uri": "https://localhost:8080/",
     "height": 34
    },
    "colab_type": "code",
    "id": "_JyyHPmWltnd",
    "outputId": "8354f264-e976-414f-eacc-1ec2c23418f9"
   },
   "outputs": [
    {
     "data": {
      "text/plain": [
       "(np.int64(6), array([4, 5, 6]), array([2, 5, 8]), array([6, 7, 8, 9]))"
      ]
     },
     "execution_count": 7,
     "metadata": {},
     "output_type": "execute_result"
    }
   ],
   "source": [
    "# Indexação e slicing\n",
    "array = np.array([[1, 2, 3], [4, 5, 6], [7, 8, 9]])\n",
    "\n",
    "elemento = array[1, 2]  # Elemento na segunda linha, terceira coluna\n",
    "linha = array[1, :]  # Segunda linha inteira\n",
    "coluna = array[:, 1]  # Segunda coluna inteira\n",
    "filtro = array[array > 5]  # Elementos maiores que 5\n",
    "\n",
    "# Exibindo os resultados\n",
    "elemento, linha, coluna, filtro\n"
   ]
  },
  {
   "cell_type": "markdown",
   "metadata": {},
   "source": [
    "### Manipulação de Formas"
   ]
  },
  {
   "cell_type": "code",
   "execution_count": 8,
   "metadata": {},
   "outputs": [
    {
     "data": {
      "text/plain": [
       "(array([[1, 2],\n",
       "        [3, 4],\n",
       "        [5, 6]]),\n",
       " array([1, 2, 3, 4, 5, 6]),\n",
       " array([[1, 4],\n",
       "        [2, 5],\n",
       "        [3, 6]]))"
      ]
     },
     "execution_count": 8,
     "metadata": {},
     "output_type": "execute_result"
    }
   ],
   "source": [
    "# Manipulação de formas\n",
    "array = np.array([[1, 2, 3], [4, 5, 6]])\n",
    "\n",
    "reshaped = array.reshape((3, 2))  # Mudando para forma 3x2\n",
    "achatar = array.flatten()  # Achatar para um vetor\n",
    "transposta = array.T  # Transposta do array\n",
    "\n",
    "# Exibindo os resultados\n",
    "reshaped, achatar, transposta\n"
   ]
  },
  {
   "cell_type": "markdown",
   "metadata": {},
   "source": [
    "### Operações com Arrays"
   ]
  },
  {
   "cell_type": "code",
   "execution_count": 9,
   "metadata": {},
   "outputs": [
    {
     "data": {
      "text/plain": [
       "(array([1, 2, 3, 4, 5, 6]),\n",
       " array([[1, 2, 3],\n",
       "        [4, 5, 6]]),\n",
       " array([1, 2, 3, 4, 5, 6]))"
      ]
     },
     "execution_count": 9,
     "metadata": {},
     "output_type": "execute_result"
    }
   ],
   "source": [
    "# Operações com arrays\n",
    "a = np.array([1, 2, 3])\n",
    "b = np.array([4, 5, 6])\n",
    "\n",
    "concatenado = np.concatenate([a, b])\n",
    "empilhado_v = np.vstack([a, b])  # Empilhamento vertical\n",
    "empilhado_h = np.hstack([a, b])  # Empilhamento horizontal\n",
    "\n",
    "# Exibindo os resultados\n",
    "concatenado, empilhado_v, empilhado_h"
   ]
  },
  {
   "cell_type": "markdown",
   "metadata": {},
   "source": [
    "### Estatísticas e Álgebra Linear"
   ]
  },
  {
   "cell_type": "code",
   "execution_count": 10,
   "metadata": {},
   "outputs": [
    {
     "data": {
      "text/plain": [
       "(np.int64(32),\n",
       " array([[-2. ,  1. ],\n",
       "        [ 1.5, -0.5]]),\n",
       " array([-0.37228132,  5.37228132]),\n",
       " array([[-0.82456484, -0.41597356],\n",
       "        [ 0.56576746, -0.90937671]]))"
      ]
     },
     "execution_count": 10,
     "metadata": {},
     "output_type": "execute_result"
    }
   ],
   "source": [
    "# Estatísticas e álgebra linear\n",
    "array1 = np.array([1, 2, 3])\n",
    "array2 = np.array([4, 5, 6])\n",
    "produto_escalar = np.dot(array1, array2)\n",
    "\n",
    "matriz = np.array([[1, 2], [3, 4]])\n",
    "inversa = np.linalg.inv(matriz)  # Inversa da matriz\n",
    "autovalores, autovetores = np.linalg.eig(matriz)  # Autovalores e autovetores\n",
    "\n",
    "# Exibindo os resultados\n",
    "produto_escalar, inversa, autovalores, autovetores\n"
   ]
  }
 ],
 "metadata": {
  "colab": {
   "name": "Python_para_Data_Science_Numpy.ipynb",
   "provenance": [],
   "toc_visible": true
  },
  "kernelspec": {
   "display_name": "Python 3",
   "language": "python",
   "name": "python3"
  },
  "language_info": {
   "codemirror_mode": {
    "name": "ipython",
    "version": 3
   },
   "file_extension": ".py",
   "mimetype": "text/x-python",
   "name": "python",
   "nbconvert_exporter": "python",
   "pygments_lexer": "ipython3",
   "version": "3.13.0"
  }
 },
 "nbformat": 4,
 "nbformat_minor": 1
}
